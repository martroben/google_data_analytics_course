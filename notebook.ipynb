{
 "cells": [
  {
   "cell_type": "markdown",
   "metadata": {},
   "source": [
    "# Google Data Analytics capstone project\n",
    "Goal: analyze the bike rides dataset from https://divvy-tripdata.s3.amazonaws.com/index.html and present your findings."
   ]
  },
  {
   "cell_type": "markdown",
   "metadata": {},
   "source": [
    "## Set up the environment:"
   ]
  },
  {
   "cell_type": "code",
   "execution_count": 1,
   "metadata": {},
   "outputs": [],
   "source": [
    "# Import packages\n",
    "# standard\n",
    "import datetime\n",
    "import io\n",
    "from urllib.parse import urljoin\n",
    "import zipfile\n",
    "# external\n",
    "import geojson\n",
    "import numpy\n",
    "import plotly.graph_objects\n",
    "import plotly.subplots\n",
    "import pandas\n",
    "import requests\n",
    "import scipy.stats\n",
    "import tqdm"
   ]
  },
  {
   "cell_type": "code",
   "execution_count": 3,
   "metadata": {},
   "outputs": [],
   "source": [
    "# Define functions\n",
    "def haversine(x: float) -> float:\n",
    "    \"\"\"Trigonometric haversine function.\"\"\"\n",
    "    return numpy.sin(x/2)**2\n",
    "\n",
    "\n",
    "def haversine_distance(longitude1_deg: float, latitude1_deg: float, longitude2_deg: float,  latitude2_deg: float, radius_km: float = 6378) -> float:\n",
    "    \"\"\"\n",
    "    Calculate distance between two geographical points given in degrees.\n",
    "    https://en.wikipedia.org/wiki/Haversine_formula \n",
    "    \"\"\"\n",
    "    latitude1_rad, longitude1_rad, latitude2_rad, longitude2_rad = numpy.radians([\n",
    "        latitude1_deg,\n",
    "        longitude1_deg,\n",
    "        latitude2_deg,\n",
    "        longitude2_deg])\n",
    "\n",
    "    latitude_difference = latitude1_rad - latitude2_rad\n",
    "    longitude_difference = longitude1_rad - longitude2_rad\n",
    "    \n",
    "    haversine_theta = haversine(latitude_difference) + numpy.cos(latitude1_rad) * numpy.cos(latitude2_rad) * haversine(longitude_difference)\n",
    "    distance = 2 * radius_km * numpy.arcsin( numpy.sqrt(haversine_theta) )\n",
    "    return distance\n",
    "\n",
    "\n",
    "def get_pdf_values(values: list | pandas.core.series.Series) -> tuple[numpy.ndarray, numpy.ndarray]:\n",
    "    \"\"\"\n",
    "    Get numpy histogram with resolution based on interquantile range.\n",
    "    Used to plot a probability density function (PDF).\n",
    "    First value in return tuple gives the edges of bins (PDF x values).\n",
    "    Second value in return tuple gives the number of data points in each bin (PDF y values).\n",
    "    \"\"\"\n",
    "    # Set resolution\n",
    "    n_bins_in_interquantile_range = 50\n",
    "\n",
    "    values = pandas.Series(values)\n",
    "    values_range = values.max() - values.min()\n",
    "    values_interquantile_range = values.quantile(0.75) - values.quantile(0.25)\n",
    "\n",
    "    n_bins = int(values_range / (values_interquantile_range / n_bins_in_interquantile_range))\n",
    "    histogram = numpy.histogram(values, bins=n_bins, density=True)\n",
    "\n",
    "    return (histogram[1], histogram[0])\n",
    "\n",
    "\n",
    "def add_pdf_plot(\n",
    "        figure: plotly.graph_objs._figure.Figure,\n",
    "        x_values: (list | pandas.core.series.Series),\n",
    "        y_values: (list | pandas.core.series.Series),\n",
    "        color: str,\n",
    "        cutoffs: tuple[float, float] = (0, 0),\n",
    "        legend_name: str = None,\n",
    "        subplot_row: int = None,\n",
    "        subplot_column: int = None) -> plotly.graph_objs._figure.Figure:\n",
    "    \"\"\"\n",
    "    Add PDF plot to plotly figure.\n",
    "    Optionally also show cutoffs for outliers and use specified subplot.\n",
    "    \"\"\"\n",
    "    pdf_plot = plotly.graph_objects.Scatter(\n",
    "        x=x_values,\n",
    "        y=y_values,\n",
    "        mode=\"lines\",\n",
    "        name=legend_name,\n",
    "        line=dict(\n",
    "            color=color))\n",
    "\n",
    "    figure = (\n",
    "        figure\n",
    "            .add_trace(\n",
    "                pdf_plot,\n",
    "                row=subplot_row,\n",
    "                col=subplot_column)\n",
    "            .add_vrect(\n",
    "                x0=cutoffs[0],\n",
    "                x1=cutoffs[1],\n",
    "                fillcolor=color,\n",
    "                opacity=0.2,\n",
    "                line_width=0,\n",
    "                row=subplot_row,\n",
    "                col=subplot_column))\n",
    "    return figure"
   ]
  },
  {
   "cell_type": "markdown",
   "metadata": {},
   "source": [
    "## Download the data:"
   ]
  },
  {
   "cell_type": "code",
   "execution_count": 6,
   "metadata": {},
   "outputs": [
    {
     "name": "stderr",
     "output_type": "stream",
     "text": [
      "Downloading data:: 100%|██████████| 12/12 [02:28<00:00, 12.39s/it]\n"
     ]
    }
   ],
   "source": [
    "# Input\n",
    "data_base_url = \"https://divvy-tripdata.s3.amazonaws.com/\"\n",
    "start_month = \"2022_01\"\n",
    "end_month = \"2022_12\"\n",
    "\n",
    "\n",
    "# Download data\n",
    "months = pandas.date_range(\n",
    "    start=datetime.datetime.strptime(start_month, \"%Y_%m\"),\n",
    "    # Insert a date from next month, because pandas.date_range with freq=\"M\" gives last days of month\n",
    "    end=datetime.datetime.strptime(end_month, \"%Y_%m\") + datetime.timedelta(days=32),\n",
    "    freq=\"M\")\n",
    "\n",
    "file_names = [f\"{datetime.datetime.strftime(month, '%Y%m')}-divvy-tripdata\" for month in months]\n",
    "\n",
    "data = pandas.DataFrame()\n",
    "for file_name in tqdm.tqdm(file_names, desc=\"Downloading data\"):\n",
    "    response = requests.get(urljoin(data_base_url, f\"{file_name}.zip\"), allow_redirects=True)\n",
    "    # ZipFile object accepts file-like objects\n",
    "    # Use io.BytesIO to turn requests.Response.content to file-like object\n",
    "    with zipfile.ZipFile(io.BytesIO(response.content)) as data_zipfile:\n",
    "        zip_file_names = [zip_file.filename for zip_file in data_zipfile.filelist]\n",
    "        # Some zipped files have a different naming convention\n",
    "        if f\"{file_name}.csv\" not in zip_file_names:\n",
    "            file_name = file_name.replace(\"tripdata\", \"publictripdata\")\n",
    "        with data_zipfile.open(f\"{file_name}.csv\") as data_raw_csv:\n",
    "            data = pandas.concat([data, pandas.read_csv(data_raw_csv)])"
   ]
  },
  {
   "cell_type": "markdown",
   "metadata": {},
   "source": [
    "## Add derived variables to data\n",
    "Calculate ride durations to analyse if members have longer rides.\n",
    "\n",
    "Calculate ride direct distances to analyse regular and electric bike usage.\n",
    "Distances are direct line distances calculated by start and end coordinates, because there is no GPS trajectory data available."
   ]
  },
  {
   "cell_type": "code",
   "execution_count": 8,
   "metadata": {},
   "outputs": [],
   "source": [
    "# Add ride durations\n",
    "data[[\"started_at\", \"ended_at\"]] = data[[\"started_at\", \"ended_at\"]].astype(\"datetime64[ns]\")\n",
    "data[\"duration_minutes\"] = [round(timedelta.total_seconds() / 60, 2) for timedelta in data[\"ended_at\"] - data[\"started_at\"]]\n",
    "\n",
    "# Add ride direct line distances\n",
    "data[\"longitude_delta\"] = abs(data[\"start_lng\"] - data[\"end_lng\"])\n",
    "data[\"latitude_delta\"] = abs(data[\"start_lat\"] - data[\"end_lat\"])\n",
    "data[\"direct_distance_km\"] = [round(x, 2) for x in map(haversine_distance, data[\"start_lng\"], data[\"start_lat\"], data[\"end_lng\"], data[\"end_lat\"])]"
   ]
  },
  {
   "cell_type": "markdown",
   "metadata": {},
   "source": [
    "## Ride duration analysis\n",
    "1. plot distance pdf-s\n",
    "2. Bootstrap the effect"
   ]
  }
 ],
 "metadata": {
  "kernelspec": {
   "display_name": "venv",
   "language": "python",
   "name": "python3"
  },
  "language_info": {
   "codemirror_mode": {
    "name": "ipython",
    "version": 3
   },
   "file_extension": ".py",
   "mimetype": "text/x-python",
   "name": "python",
   "nbconvert_exporter": "python",
   "pygments_lexer": "ipython3",
   "version": "3.10.12"
  }
 },
 "nbformat": 4,
 "nbformat_minor": 2
}
